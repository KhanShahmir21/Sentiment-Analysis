{
 "cells": [
  {
   "cell_type": "code",
   "execution_count": null,
   "id": "67cd7091",
   "metadata": {},
   "outputs": [],
   "source": [
    "import requests\n",
    "from bs4 import BeautifulSoup\n",
    "from sklearn.feature_extraction.text import TfidfVectorizer\n",
    "from sklearn.linear_model import LogisticRegression\n",
    "from sklearn.pipeline import make_pipeline\n",
    "import pandas as pd\n",
    "\n",
    "# Load the Excel file\n",
    "file_path = 'Keyword search complete.xlsx'  # Update with the correct path\n",
    "df = pd.read_excel(file_path)\n",
    "\n",
    "# Extract relevant columns and filter out rows without a URL\n",
    "df = df[['Ticker', 'Label', 'URL']].dropna(subset=['URL'])\n",
    "\n",
    "# Combine all statements for training the model\n",
    "def scrape_statements(df):\n",
    "    statements = []\n",
    "    for url in df['URL']:\n",
    "        try:\n",
    "            response = requests.get(url)\n",
    "            soup = BeautifulSoup(response.text, 'html.parser')\n",
    "            text = ' '.join(p.get_text() for p in soup.find_all('p'))\n",
    "            statements.append(text.strip())\n",
    "        except Exception as e:\n",
    "            print(f\"Error fetching {url}: {e}\")\n",
    "            statements.append(\"\")  # Append empty string if there's an error\n",
    "    return statements\n",
    "\n",
    "# Scrape statements and add them to the DataFrame\n",
    "df['Statement'] = scrape_statements(df)\n",
    "\n",
    "# Filter for training data (valid labels)\n",
    "df = df[df['Label'].isin(['Positive', 'Negative', 'Neutral'])]\n",
    "if df.empty:\n",
    "    print(\"No valid data available for training.\")\n",
    "else:\n",
    "    # Create a pipeline with TF-IDF and Logistic Regression\n",
    "    model = make_pipeline(TfidfVectorizer(), LogisticRegression(max_iter=1000))\n",
    "    model.fit(df['Statement'], df['Label'])\n",
    "\n",
    "    # Prompt the user for a URL\n",
    "    user_url = input(\"Please enter a URL to predict its sentiment: \")\n",
    "    \n",
    "    try:\n",
    "        # Scrape the content from the user's URL\n",
    "        user_response = requests.get(user_url)\n",
    "        user_soup = BeautifulSoup(user_response.text, 'html.parser')\n",
    "        user_text = ' '.join(p.get_text() for p in user_soup.find_all('p')).strip()\n",
    "\n",
    "        # Make a prediction based on the scraped content\n",
    "        prediction = model.predict([user_text])\n",
    "        print(f\"The predicted sentiment for the provided URL is: {prediction[0]}\")\n",
    "\n",
    "    except Exception as e:\n",
    "        print(f\"Error fetching the URL: {e}\")"
   ]
  },
  {
   "cell_type": "code",
   "execution_count": null,
   "id": "a0a869e3",
   "metadata": {},
   "outputs": [],
   "source": []
  }
 ],
 "metadata": {
  "kernelspec": {
   "display_name": "Python 3 (ipykernel)",
   "language": "python",
   "name": "python3"
  },
  "language_info": {
   "codemirror_mode": {
    "name": "ipython",
    "version": 3
   },
   "file_extension": ".py",
   "mimetype": "text/x-python",
   "name": "python",
   "nbconvert_exporter": "python",
   "pygments_lexer": "ipython3",
   "version": "3.11.4"
  }
 },
 "nbformat": 4,
 "nbformat_minor": 5
}
